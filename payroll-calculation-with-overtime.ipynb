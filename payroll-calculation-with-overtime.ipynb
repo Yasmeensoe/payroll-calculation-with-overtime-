{
  "cells": [
    {
      "cell_type": "code",
      "execution_count": 3,
      "metadata": {
        "colab": {
          "base_uri": "https://localhost:8080/"
        },
        "id": "xoR5XOd5sh6s",
        "outputId": "84f4dfcf-7062-47f6-9bf9-98412e3b55e0"
      },
      "outputs": [
        {
          "output_type": "stream",
          "name": "stdout",
          "text": [
            "Welcome to the Payroll Calculation System\n",
            "Enter the hourly wage: 10\n",
            "Enter the number of hours worked on day 1: 10\n",
            "Enter the number of hours worked on day 2: 10\n",
            "Enter the number of hours worked on day 3: 10\n",
            "Enter the number of hours worked on day 4: 10\n",
            "Enter the number of hours worked on day 5: 10\n",
            "\n",
            "Total hours worked: 50.00 hours\n",
            "Regular pay (for 40 hours): $400.00\n",
            "Overtime hours worked: 10.00 hours\n",
            "Overtime pay: $150.00\n",
            "Total pay for the week: $550.00\n",
            "Payroll information stored in 'payroll_info.txt'.\n"
          ]
        }
      ],
      "source": [
        "# Function to get valid hours for each day\n",
        "def getDailyHours():\n",
        "    dailyHours = []\n",
        "    for day in range(1, 6):  # 5 days in a week\n",
        "        while True:\n",
        "            try:\n",
        "                hours = float(input(f\"Enter the number of hours worked on day {day}: \"))\n",
        "                if 0 <= hours <= 24:\n",
        "                    dailyHours.append(hours)\n",
        "                    break\n",
        "                else:\n",
        "                    print(\"Please enter a valid number of hours between 0 and 24.\")\n",
        "            except ValueError:\n",
        "                print(\"Invalid input. Please enter a numeric value.\")\n",
        "    return dailyHours\n",
        "\n",
        "# Function to get a valid hourly wage\n",
        "def getHourlyWage():\n",
        "    while True:\n",
        "        try:\n",
        "            wage = float(input(\"Enter the hourly wage: \"))\n",
        "            if wage > 0:\n",
        "                return wage\n",
        "            else:\n",
        "                print(\"Hourly wage must be greater than 0.\")\n",
        "        except ValueError:\n",
        "            print(\"Invalid input. Please enter a numeric value.\")\n",
        "\n",
        "# Function to calculate total hours worked\n",
        "def calculateTotalHours(dailyHours):\n",
        "    return sum(dailyHours)\n",
        "\n",
        "# Function to calculate pay including regular and overtime\n",
        "def calculatePay(totalHours, hourlyWage):\n",
        "    overtimeThreshold = 40\n",
        "    overtimeRate = 1.5\n",
        "    if totalHours > overtimeThreshold:\n",
        "        regularPay = hourlyWage * overtimeThreshold\n",
        "        overtimeHours = totalHours - overtimeThreshold\n",
        "        overtimePay = overtimeHours * hourlyWage * overtimeRate\n",
        "        totalPay = regularPay + overtimePay\n",
        "    else:\n",
        "        regularPay = totalHours * hourlyWage\n",
        "        overtimeHours = 0\n",
        "        overtimePay = 0\n",
        "        totalPay = regularPay\n",
        "\n",
        "    return totalPay, regularPay, overtimeHours, overtimePay\n",
        "\n",
        "# Function to store payroll information in a file\n",
        "def storePayrollInfo(totalHours, totalPay, regularPay, overtimeHours, overtimePay, hourlyWage):\n",
        "    with open(\"payroll_info.txt\", \"w\") as file:\n",
        "        file.write(f\"Hourly Wage: ${hourlyWage:.2f}\\n\")\n",
        "        file.write(f\"Total Hours Worked: {totalHours:.2f} hours\\n\")\n",
        "        file.write(f\"Regular Pay (for 40 hours or less): ${regularPay:.2f}\\n\")\n",
        "        file.write(f\"Overtime Hours: {overtimeHours:.2f} hours\\n\")\n",
        "        file.write(f\"Overtime Pay (with rate 1.5): ${overtimePay:.2f}\\n\")\n",
        "        file.write(f\"Total Pay: ${totalPay:.2f}\\n\")\n",
        "    print(\"Payroll information stored in 'payroll_info.txt'.\")\n",
        "\n",
        "# Main function\n",
        "def main():\n",
        "    print(\"Welcome to the Payroll Calculation System\")\n",
        "\n",
        "    hourlyWage = getHourlyWage()\n",
        "    dailyHours = getDailyHours()\n",
        "\n",
        "    totalHours = calculateTotalHours(dailyHours)\n",
        "    totalPay, regularPay, overtimeHours, overtimePay = calculatePay(totalHours, hourlyWage)\n",
        "\n",
        "    print(f\"\\nTotal hours worked: {totalHours:.2f} hours\")\n",
        "    print(f\"Regular pay (for 40 hours or less): ${regularPay:.2f}\")\n",
        "    if overtimeHours > 0:\n",
        "        print(f\"Overtime hours worked: {overtimeHours:.2f} hours\")\n",
        "        print(f\"Overtime pay (with rate 1.5): ${overtimePay:.2f}\")\n",
        "    print(f\"Total pay for the week: ${totalPay:.2f}\")\n",
        "\n",
        "    storePayrollInfo(totalHours, totalPay, regularPay, overtimeHours, overtimePay, hourlyWage)\n",
        "\n",
        "# Run the program\n",
        "if __name__ == \"__main__\":\n",
        "    main()\n"
      ]
    }
  ],
  "metadata": {
    "colab": {
      "provenance": []
    },
    "kernelspec": {
      "display_name": "Python 3",
      "name": "python3"
    },
    "language_info": {
      "name": "python"
    }
  },
  "nbformat": 4,
  "nbformat_minor": 0
}